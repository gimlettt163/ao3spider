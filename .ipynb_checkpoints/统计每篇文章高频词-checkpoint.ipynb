{
 "cells": [
  {
   "cell_type": "code",
   "execution_count": 1,
   "id": "28619177",
   "metadata": {},
   "outputs": [
    {
     "name": "stderr",
     "output_type": "stream",
     "text": [
      "<frozen importlib._bootstrap>:228: RuntimeWarning: scipy._lib.messagestream.MessageStream size changed, may indicate binary incompatibility. Expected 56 from C header, got 64 from PyObject\n"
     ]
    }
   ],
   "source": [
    "import re  # 正则表达式，进行文字匹配`\n",
    "import csv\n",
    "import pandas as pd\n",
    "import os\n",
    "import numpy as np\n",
    "import matplotlib.pyplot as plt\n",
    "import seaborn as sns\n",
    "from scipy.stats import norm\n",
    "from datetime import datetime\n",
    "import re\n",
    "import requests\n",
    "from bs4 import BeautifulSoup\n",
    "import re  # 正则表达式，进行文字匹配`\n",
    "import urllib.request, urllib.error  # 制定URL，获取网页数据\n",
    "from bs4 import BeautifulSoup"
   ]
  },
  {
   "cell_type": "code",
   "execution_count": 2,
   "id": "3edaddc8",
   "metadata": {},
   "outputs": [
    {
     "data": {
      "text/html": [
       "<div>\n",
       "<style scoped>\n",
       "    .dataframe tbody tr th:only-of-type {\n",
       "        vertical-align: middle;\n",
       "    }\n",
       "\n",
       "    .dataframe tbody tr th {\n",
       "        vertical-align: top;\n",
       "    }\n",
       "\n",
       "    .dataframe thead th {\n",
       "        text-align: right;\n",
       "    }\n",
       "</style>\n",
       "<table border=\"1\" class=\"dataframe\">\n",
       "  <thead>\n",
       "    <tr style=\"text-align: right;\">\n",
       "      <th></th>\n",
       "      <th>Unnamed: 0</th>\n",
       "      <th>标题</th>\n",
       "      <th>作者</th>\n",
       "      <th>点赞</th>\n",
       "      <th>点击</th>\n",
       "      <th>评论</th>\n",
       "      <th>收藏</th>\n",
       "      <th>url</th>\n",
       "      <th>date</th>\n",
       "      <th>点赞比</th>\n",
       "      <th>发表间隔</th>\n",
       "    </tr>\n",
       "  </thead>\n",
       "  <tbody>\n",
       "    <tr>\n",
       "      <th>0</th>\n",
       "      <td>631</td>\n",
       "      <td>【深空全员】《小狗禁食期》</td>\n",
       "      <td>Hezoe_523</td>\n",
       "      <td>1157</td>\n",
       "      <td>104187</td>\n",
       "      <td>242</td>\n",
       "      <td>115</td>\n",
       "      <td>https://archiveofourown.org/works/54351061</td>\n",
       "      <td>20 Jul 2024</td>\n",
       "      <td>0.011105</td>\n",
       "      <td>39</td>\n",
       "    </tr>\n",
       "    <tr>\n",
       "      <th>1</th>\n",
       "      <td>597</td>\n",
       "      <td>【恋与深空】隔墙花</td>\n",
       "      <td>lumianlin</td>\n",
       "      <td>3854</td>\n",
       "      <td>72281</td>\n",
       "      <td>222</td>\n",
       "      <td>148</td>\n",
       "      <td>https://archiveofourown.org/works/53498713</td>\n",
       "      <td>13 Mar 2024</td>\n",
       "      <td>0.053320</td>\n",
       "      <td>168</td>\n",
       "    </tr>\n",
       "    <tr>\n",
       "      <th>2</th>\n",
       "      <td>376</td>\n",
       "      <td>【夏以昼x我x黎深】苹果和梨可以兼得吗</td>\n",
       "      <td>lanangelica</td>\n",
       "      <td>2141</td>\n",
       "      <td>61821</td>\n",
       "      <td>302</td>\n",
       "      <td>117</td>\n",
       "      <td>https://archiveofourown.org/works/53422264</td>\n",
       "      <td>24 Feb 2024</td>\n",
       "      <td>0.034632</td>\n",
       "      <td>186</td>\n",
       "    </tr>\n",
       "    <tr>\n",
       "      <th>3</th>\n",
       "      <td>576</td>\n",
       "      <td>恋与深空｜难恕</td>\n",
       "      <td>Flaustine</td>\n",
       "      <td>1738</td>\n",
       "      <td>41938</td>\n",
       "      <td>87</td>\n",
       "      <td>79</td>\n",
       "      <td>https://archiveofourown.org/works/54013507</td>\n",
       "      <td>27 Mar 2024</td>\n",
       "      <td>0.041442</td>\n",
       "      <td>154</td>\n",
       "    </tr>\n",
       "    <tr>\n",
       "      <th>4</th>\n",
       "      <td>25</td>\n",
       "      <td>【夏以昼日记】</td>\n",
       "      <td>JiuMengXingHe</td>\n",
       "      <td>1925</td>\n",
       "      <td>41401</td>\n",
       "      <td>159</td>\n",
       "      <td>220</td>\n",
       "      <td>https://archiveofourown.org/works/54155422</td>\n",
       "      <td>29 Feb 2024</td>\n",
       "      <td>0.046496</td>\n",
       "      <td>181</td>\n",
       "    </tr>\n",
       "  </tbody>\n",
       "</table>\n",
       "</div>"
      ],
      "text/plain": [
       "   Unnamed: 0                   标题             作者    点赞      点击   评论   收藏  \\\n",
       "0         631        【深空全员】《小狗禁食期》      Hezoe_523  1157  104187  242  115   \n",
       "1         597            【恋与深空】隔墙花      lumianlin  3854   72281  222  148   \n",
       "2         376  【夏以昼x我x黎深】苹果和梨可以兼得吗    lanangelica  2141   61821  302  117   \n",
       "3         576              恋与深空｜难恕      Flaustine  1738   41938   87   79   \n",
       "4          25              【夏以昼日记】  JiuMengXingHe  1925   41401  159  220   \n",
       "\n",
       "                                          url         date       点赞比  发表间隔  \n",
       "0  https://archiveofourown.org/works/54351061  20 Jul 2024  0.011105    39  \n",
       "1  https://archiveofourown.org/works/53498713  13 Mar 2024  0.053320   168  \n",
       "2  https://archiveofourown.org/works/53422264  24 Feb 2024  0.034632   186  \n",
       "3  https://archiveofourown.org/works/54013507  27 Mar 2024  0.041442   154  \n",
       "4  https://archiveofourown.org/works/54155422  29 Feb 2024  0.046496   181  "
      ]
     },
     "execution_count": 2,
     "metadata": {},
     "output_type": "execute_result"
    }
   ],
   "source": [
    "chinese_str=\"夏以昼\"\n",
    "file_path=chinese_str+\"文章筛选.xlsx\"\n",
    "if(not os.path.isfile(file_path)):\n",
    "    print(\"文件不存在！\") \n",
    "df = pd.read_excel(file_path)\n",
    "df.head()"
   ]
  },
  {
   "cell_type": "code",
   "execution_count": 3,
   "id": "88ccb17e",
   "metadata": {},
   "outputs": [],
   "source": [
    "df_url=df['url']\n",
    "#url=df_url[0]\n",
    "url='https://bk.jdkg.fun/works/54907306'"
   ]
  },
  {
   "cell_type": "code",
   "execution_count": 4,
   "id": "f0b8f8b8",
   "metadata": {},
   "outputs": [],
   "source": [
    "def askURL(url):\n",
    "    head = {  # 模拟浏览器头部信息，向豆瓣服务器发送消息\n",
    "        \"User-Agent\": \"Mozilla / 5.0(Windows NT 10.0; Win64; x64) AppleWebKit / 537.36(KHTML, like Gecko) Chrome / 80.0.3987.122  Safari / 537.36\"\n",
    "    }\n",
    "    # 用户代理，表示告诉豆瓣服务器，我们是什么类型的机器、浏览器（本质上是告诉浏览器，我们可以接收什么水平的文件内容）\n",
    "    request = urllib.request.Request(url, headers=head)\n",
    "    html = \"\"\n",
    "    try:\n",
    "        response = urllib.request.urlopen(request)\n",
    "        html = response.read().decode(\"utf-8\")\n",
    "    except urllib.error.URLError as e:\n",
    "        if hasattr(e, \"code\"):\n",
    "            print(e.code)\n",
    "        if hasattr(e, \"reason\"):\n",
    "            print(e.reason)\n",
    "    return html"
   ]
  },
  {
   "cell_type": "code",
   "execution_count": 13,
   "id": "693b64d3",
   "metadata": {},
   "outputs": [
    {
     "data": {
      "text/plain": [
       "'你是他的白昼，他是你的夏以昼。突然回归の夏以昼x自认单恋且迟钝の你（天赋异禀哥x小魅魔妹）'"
      ]
     },
     "execution_count": 13,
     "metadata": {},
     "output_type": "execute_result"
    }
   ],
   "source": [
    "def GetQuote():\n",
    "    html = askURL(url)\n",
    "    if html is None:\n",
    "        raise ValueError(\"HTML内容未定义\")\n",
    "    soup = BeautifulSoup(html,\"html.parser\",from_encoding=\"utf-8\")\n",
    "    quote =soup.find('blockquote', class_=\"userstuff\").get_text()\n",
    "    quote=quote.replace(\"\\n\", \"\")\n",
    "    return quote"
   ]
  },
  {
   "cell_type": "code",
   "execution_count": null,
   "id": "7eaf7e03",
   "metadata": {},
   "outputs": [],
   "source": []
  },
  {
   "cell_type": "code",
   "execution_count": 14,
   "id": "5a6a413e",
   "metadata": {},
   "outputs": [
    {
     "name": "stderr",
     "output_type": "stream",
     "text": [
      "Building prefix dict from the default dictionary ...\n",
      "Dumping model to file cache C:\\Users\\a2693\\AppData\\Local\\Temp\\jieba.cache\n",
      "Loading model cost 0.562 seconds.\n",
      "Prefix dict has been built successfully.\n"
     ]
    },
    {
     "name": "stdout",
     "output_type": "stream",
     "text": [
      "夏以            2\n",
      "白昼            1\n",
      "突然            1\n",
      "回归            1\n",
      "自认            1\n",
      "单恋            1\n",
      "迟钝            1\n",
      "天赋            1\n",
      "异禀            1\n",
      "小魅            1\n",
      "魔妹            1\n"
     ]
    },
    {
     "ename": "IndexError",
     "evalue": "list index out of range",
     "output_type": "error",
     "traceback": [
      "\u001b[1;31m---------------------------------------------------------------------------\u001b[0m",
      "\u001b[1;31mIndexError\u001b[0m                                Traceback (most recent call last)",
      "Cell \u001b[1;32mIn[14], line 21\u001b[0m\n\u001b[0;32m     19\u001b[0m \u001b[38;5;66;03m# 取出排名前10并打印\u001b[39;00m\n\u001b[0;32m     20\u001b[0m \u001b[38;5;28;01mfor\u001b[39;00m i \u001b[38;5;129;01min\u001b[39;00m \u001b[38;5;28mrange\u001b[39m(\u001b[38;5;241m20\u001b[39m):\n\u001b[1;32m---> 21\u001b[0m     word,count \u001b[38;5;241m=\u001b[39m \u001b[43mitems\u001b[49m\u001b[43m[\u001b[49m\u001b[43mi\u001b[49m\u001b[43m]\u001b[49m\n\u001b[0;32m     22\u001b[0m     \u001b[38;5;28mprint\u001b[39m(\u001b[38;5;124m\"\u001b[39m\u001b[38;5;132;01m{0:<10}\u001b[39;00m\u001b[38;5;132;01m{1:>5}\u001b[39;00m\u001b[38;5;124m\"\u001b[39m\u001b[38;5;241m.\u001b[39mformat(word,count))\n",
      "\u001b[1;31mIndexError\u001b[0m: list index out of range"
     ]
    }
   ],
   "source": [
    "import jieba\n",
    "\n",
    "# 读文件 jieba库\n",
    "txt = quote\n",
    "words = jieba.lcut(txt)  \n",
    "\n",
    "# 列表变成字典\n",
    "counts = {}\n",
    "for word in words:\n",
    "    if len(word) == 1: # 将\"曰\"还有\"特殊符号\"这些一个字的筛掉\n",
    "        continue\n",
    "    else:\n",
    "        counts[word] = counts.get(word,0) + 1\n",
    "\n",
    "# 排序\n",
    "items = list(counts.items())\n",
    "items.sort(key = lambda x:x[1],reverse = True)\n",
    "\n",
    "# 取出排名前10并打印\n",
    "for i in range(20):\n",
    "    word,count = items[i]\n",
    "    print(\"{0:<10}{1:>5}\".format(word,count))"
   ]
  }
 ],
 "metadata": {
  "kernelspec": {
   "display_name": "Python 3 (ipykernel)",
   "language": "python",
   "name": "python3"
  },
  "language_info": {
   "codemirror_mode": {
    "name": "ipython",
    "version": 3
   },
   "file_extension": ".py",
   "mimetype": "text/x-python",
   "name": "python",
   "nbconvert_exporter": "python",
   "pygments_lexer": "ipython3",
   "version": "3.9.18"
  }
 },
 "nbformat": 4,
 "nbformat_minor": 5
}
