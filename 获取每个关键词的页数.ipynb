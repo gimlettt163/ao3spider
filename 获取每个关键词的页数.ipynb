{
 "cells": [
  {
   "cell_type": "code",
   "execution_count": 1,
   "id": "f9eada32",
   "metadata": {},
   "outputs": [],
   "source": [
    "import re\n",
    "import requests\n",
    "from bs4 import BeautifulSoup\n",
    "import re  # 正则表达式，进行文字匹配`\n",
    "import urllib.request, urllib.error  # 制定URL，获取网页数据\n",
    "from bs4 import BeautifulSoup"
   ]
  },
  {
   "cell_type": "code",
   "execution_count": 2,
   "id": "6a355caa",
   "metadata": {},
   "outputs": [],
   "source": [
    "def askURL(url):\n",
    "    head = {  # 模拟浏览器头部信息，向豆瓣服务器发送消息\n",
    "        \"User-Agent\": \"Mozilla / 5.0(Windows NT 10.0; Win64; x64) AppleWebKit / 537.36(KHTML, like Gecko) Chrome / 80.0.3987.122  Safari / 537.36\"\n",
    "    }\n",
    "    # 用户代理，表示告诉豆瓣服务器，我们是什么类型的机器、浏览器（本质上是告诉浏览器，我们可以接收什么水平的文件内容）\n",
    "    request = urllib.request.Request(url, headers=head)\n",
    "    html = \"\"\n",
    "    try:\n",
    "        response = urllib.request.urlopen(request)\n",
    "        html = response.read().decode(\"utf-8\")\n",
    "    except urllib.error.URLError as e:\n",
    "        if hasattr(e, \"code\"):\n",
    "            print(e.code)\n",
    "        if hasattr(e, \"reason\"):\n",
    "            print(e.reason)\n",
    "    return html"
   ]
  },
  {
   "cell_type": "code",
   "execution_count": 3,
   "id": "01e7b719",
   "metadata": {},
   "outputs": [
    {
     "name": "stderr",
     "output_type": "stream",
     "text": [
      "C:\\Users\\a2693\\Anaconda3\\envs\\pytorch\\lib\\site-packages\\bs4\\__init__.py:228: UserWarning: You provided Unicode markup but also provided a value for from_encoding. Your from_encoding will be ignored.\n",
      "  warnings.warn(\"You provided Unicode markup but also provided a value for from_encoding. Your from_encoding will be ignored.\")\n"
     ]
    }
   ],
   "source": [
    "from bs4 import BeautifulSoup\n",
    "url='https://archiveofourown.org/works/search?page=1&work_search%5Bquery%5D=%E5%A4%8F%E4%BB%A5%E6%98%BC'\n",
    "html=askURL(url)\n",
    "# 定义HTML内容\n",
    "soup = BeautifulSoup(html,\"html.parser\",from_encoding=\"utf-8\")\n",
    "PagesInfo=soup.find('ol',class_=\"pagination actions\")\n",
    "# PagesInfo = PagesInfo.prettify()"
   ]
  },
  {
   "cell_type": "code",
   "execution_count": 4,
   "id": "4a1e169b",
   "metadata": {},
   "outputs": [
    {
     "name": "stdout",
     "output_type": "stream",
     "text": [
      "34\n"
     ]
    }
   ],
   "source": [
    "num=0\n",
    "for item in PagesInfo.find_all('li'):\n",
    "    pages = item.find('a')\n",
    "    pages = item.get_text(strip=True) if item else \"未找到标题\"\n",
    "    if(pages.isdigit()):\n",
    "        num=pages\n",
    "print(num)"
   ]
  },
  {
   "cell_type": "code",
   "execution_count": 6,
   "id": "f09208ce",
   "metadata": {},
   "outputs": [
    {
     "name": "stdout",
     "output_type": "stream",
     "text": [
      "https://archiveofourown.org/works/search?page=page=1&&work_search%5Bquery%5D=%E5%A4%8F%E4%BB%A5%E6%98%BC\n",
      "https://archiveofourown.org/works/search?page=page=2&&work_search%5Bquery%5D=%E5%A4%8F%E4%BB%A5%E6%98%BC\n",
      "https://archiveofourown.org/works/search?page=page=3&&work_search%5Bquery%5D=%E5%A4%8F%E4%BB%A5%E6%98%BC\n",
      "https://archiveofourown.org/works/search?page=page=4&&work_search%5Bquery%5D=%E5%A4%8F%E4%BB%A5%E6%98%BC\n",
      "https://archiveofourown.org/works/search?page=page=5&&work_search%5Bquery%5D=%E5%A4%8F%E4%BB%A5%E6%98%BC\n",
      "https://archiveofourown.org/works/search?page=page=6&&work_search%5Bquery%5D=%E5%A4%8F%E4%BB%A5%E6%98%BC\n",
      "https://archiveofourown.org/works/search?page=page=7&&work_search%5Bquery%5D=%E5%A4%8F%E4%BB%A5%E6%98%BC\n",
      "https://archiveofourown.org/works/search?page=page=8&&work_search%5Bquery%5D=%E5%A4%8F%E4%BB%A5%E6%98%BC\n",
      "https://archiveofourown.org/works/search?page=page=9&&work_search%5Bquery%5D=%E5%A4%8F%E4%BB%A5%E6%98%BC\n",
      "https://archiveofourown.org/works/search?page=page=10&&work_search%5Bquery%5D=%E5%A4%8F%E4%BB%A5%E6%98%BC\n",
      "https://archiveofourown.org/works/search?page=page=11&&work_search%5Bquery%5D=%E5%A4%8F%E4%BB%A5%E6%98%BC\n",
      "https://archiveofourown.org/works/search?page=page=12&&work_search%5Bquery%5D=%E5%A4%8F%E4%BB%A5%E6%98%BC\n",
      "https://archiveofourown.org/works/search?page=page=13&&work_search%5Bquery%5D=%E5%A4%8F%E4%BB%A5%E6%98%BC\n",
      "https://archiveofourown.org/works/search?page=page=14&&work_search%5Bquery%5D=%E5%A4%8F%E4%BB%A5%E6%98%BC\n",
      "https://archiveofourown.org/works/search?page=page=15&&work_search%5Bquery%5D=%E5%A4%8F%E4%BB%A5%E6%98%BC\n",
      "https://archiveofourown.org/works/search?page=page=16&&work_search%5Bquery%5D=%E5%A4%8F%E4%BB%A5%E6%98%BC\n",
      "https://archiveofourown.org/works/search?page=page=17&&work_search%5Bquery%5D=%E5%A4%8F%E4%BB%A5%E6%98%BC\n",
      "https://archiveofourown.org/works/search?page=page=18&&work_search%5Bquery%5D=%E5%A4%8F%E4%BB%A5%E6%98%BC\n",
      "https://archiveofourown.org/works/search?page=page=19&&work_search%5Bquery%5D=%E5%A4%8F%E4%BB%A5%E6%98%BC\n",
      "https://archiveofourown.org/works/search?page=page=20&&work_search%5Bquery%5D=%E5%A4%8F%E4%BB%A5%E6%98%BC\n",
      "https://archiveofourown.org/works/search?page=page=21&&work_search%5Bquery%5D=%E5%A4%8F%E4%BB%A5%E6%98%BC\n",
      "https://archiveofourown.org/works/search?page=page=22&&work_search%5Bquery%5D=%E5%A4%8F%E4%BB%A5%E6%98%BC\n",
      "https://archiveofourown.org/works/search?page=page=23&&work_search%5Bquery%5D=%E5%A4%8F%E4%BB%A5%E6%98%BC\n",
      "https://archiveofourown.org/works/search?page=page=24&&work_search%5Bquery%5D=%E5%A4%8F%E4%BB%A5%E6%98%BC\n",
      "https://archiveofourown.org/works/search?page=page=25&&work_search%5Bquery%5D=%E5%A4%8F%E4%BB%A5%E6%98%BC\n",
      "https://archiveofourown.org/works/search?page=page=26&&work_search%5Bquery%5D=%E5%A4%8F%E4%BB%A5%E6%98%BC\n",
      "https://archiveofourown.org/works/search?page=page=27&&work_search%5Bquery%5D=%E5%A4%8F%E4%BB%A5%E6%98%BC\n",
      "https://archiveofourown.org/works/search?page=page=28&&work_search%5Bquery%5D=%E5%A4%8F%E4%BB%A5%E6%98%BC\n",
      "https://archiveofourown.org/works/search?page=page=29&&work_search%5Bquery%5D=%E5%A4%8F%E4%BB%A5%E6%98%BC\n",
      "https://archiveofourown.org/works/search?page=page=30&&work_search%5Bquery%5D=%E5%A4%8F%E4%BB%A5%E6%98%BC\n",
      "https://archiveofourown.org/works/search?page=page=31&&work_search%5Bquery%5D=%E5%A4%8F%E4%BB%A5%E6%98%BC\n",
      "https://archiveofourown.org/works/search?page=page=32&&work_search%5Bquery%5D=%E5%A4%8F%E4%BB%A5%E6%98%BC\n",
      "https://archiveofourown.org/works/search?page=page=33&&work_search%5Bquery%5D=%E5%A4%8F%E4%BB%A5%E6%98%BC\n",
      "https://archiveofourown.org/works/search?page=page=34&&work_search%5Bquery%5D=%E5%A4%8F%E4%BB%A5%E6%98%BC\n"
     ]
    }
   ],
   "source": [
    "num=int(num)\n",
    "begin_url='https://archiveofourown.org/works/search?page='\n",
    "end_url='&work_search%5Bquery%5D=%E5%A4%8F%E4%BB%A5%E6%98%BC'\n",
    "for page in range(1, num + 1):\n",
    "    url = f\"{begin_url}page={page}&{end_url}\""
   ]
  }
 ],
 "metadata": {
  "kernelspec": {
   "display_name": "Python 3 (ipykernel)",
   "language": "python",
   "name": "python3"
  },
  "language_info": {
   "codemirror_mode": {
    "name": "ipython",
    "version": 3
   },
   "file_extension": ".py",
   "mimetype": "text/x-python",
   "name": "python",
   "nbconvert_exporter": "python",
   "pygments_lexer": "ipython3",
   "version": "3.9.18"
  }
 },
 "nbformat": 4,
 "nbformat_minor": 5
}
