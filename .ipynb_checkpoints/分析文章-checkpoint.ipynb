{
 "cells": [
  {
   "cell_type": "code",
   "execution_count": 1,
   "id": "398346f9",
   "metadata": {},
   "outputs": [
    {
     "name": "stderr",
     "output_type": "stream",
     "text": [
      "<frozen importlib._bootstrap>:228: RuntimeWarning: scipy._lib.messagestream.MessageStream size changed, may indicate binary incompatibility. Expected 56 from C header, got 64 from PyObject\n"
     ]
    }
   ],
   "source": [
    "import re  # 正则表达式，进行文字匹配`\n",
    "import csv\n",
    "import pandas as pd\n",
    "import os\n",
    "import numpy as np\n",
    "import matplotlib.pyplot as plt\n",
    "import seaborn as sns\n",
    "from scipy.stats import norm\n",
    "from datetime import datetime\n",
    "%matplotlib inline\n",
    "sns.set(context='notebook',font='simhei',style='whitegrid')\n",
    "# 设置风格尺度和显示中文\n",
    "\n",
    "import warnings\n",
    "warnings.filterwarnings('ignore')  # 不发出警告"
   ]
  },
  {
   "cell_type": "code",
   "execution_count": 2,
   "id": "c4413d3a",
   "metadata": {},
   "outputs": [],
   "source": [
    "import pandas as pd\n",
    "#chinese_str = input(\"请输入查询角色：\")\n",
    "chinese_str=\"夏以昼\"\n",
    "file_path=chinese_str+'.csv'\n",
    "if(not os.path.isfile(file_path)):\n",
    "    print(\"文件不存在！\") "
   ]
  },
  {
   "cell_type": "code",
   "execution_count": 3,
   "id": "f7d1092e",
   "metadata": {},
   "outputs": [
    {
     "data": {
      "text/html": [
       "<div>\n",
       "<style scoped>\n",
       "    .dataframe tbody tr th:only-of-type {\n",
       "        vertical-align: middle;\n",
       "    }\n",
       "\n",
       "    .dataframe tbody tr th {\n",
       "        vertical-align: top;\n",
       "    }\n",
       "\n",
       "    .dataframe thead th {\n",
       "        text-align: right;\n",
       "    }\n",
       "</style>\n",
       "<table border=\"1\" class=\"dataframe\">\n",
       "  <thead>\n",
       "    <tr style=\"text-align: right;\">\n",
       "      <th></th>\n",
       "      <th>标题</th>\n",
       "      <th>作者</th>\n",
       "      <th>点赞</th>\n",
       "      <th>点击</th>\n",
       "      <th>评论</th>\n",
       "      <th>收藏</th>\n",
       "      <th>url</th>\n",
       "      <th>date</th>\n",
       "      <th>点赞比</th>\n",
       "    </tr>\n",
       "  </thead>\n",
       "  <tbody>\n",
       "    <tr>\n",
       "      <th>0</th>\n",
       "      <td>【夏以昼×你】昼</td>\n",
       "      <td>Saka1010</td>\n",
       "      <td>166</td>\n",
       "      <td>5310</td>\n",
       "      <td>7</td>\n",
       "      <td>6</td>\n",
       "      <td>https://archiveofourown.org/works/54907306</td>\n",
       "      <td>02 Apr 2024</td>\n",
       "      <td>0</td>\n",
       "    </tr>\n",
       "    <tr>\n",
       "      <th>1</th>\n",
       "      <td>【夏以昼】苦夏</td>\n",
       "      <td>yushdery</td>\n",
       "      <td>95</td>\n",
       "      <td>4089</td>\n",
       "      <td>30</td>\n",
       "      <td>7</td>\n",
       "      <td>https://archiveofourown.org/works/54180127</td>\n",
       "      <td>01 Mar 2024</td>\n",
       "      <td>0</td>\n",
       "    </tr>\n",
       "    <tr>\n",
       "      <th>2</th>\n",
       "      <td>【夏以昼】Dandelion</td>\n",
       "      <td>iuxinliang</td>\n",
       "      <td>22</td>\n",
       "      <td>1120</td>\n",
       "      <td>0</td>\n",
       "      <td>0</td>\n",
       "      <td>https://archiveofourown.org/works/54251449</td>\n",
       "      <td>04 Mar 2024</td>\n",
       "      <td>0</td>\n",
       "    </tr>\n",
       "    <tr>\n",
       "      <th>3</th>\n",
       "      <td>【夏以昼】瘾</td>\n",
       "      <td>Rebeccaslove</td>\n",
       "      <td>107</td>\n",
       "      <td>6853</td>\n",
       "      <td>2</td>\n",
       "      <td>6</td>\n",
       "      <td>https://archiveofourown.org/works/54696484</td>\n",
       "      <td>24 Mar 2024</td>\n",
       "      <td>0</td>\n",
       "    </tr>\n",
       "    <tr>\n",
       "      <th>4</th>\n",
       "      <td>【夏以昼】Trampoline</td>\n",
       "      <td>BlackCone</td>\n",
       "      <td>16</td>\n",
       "      <td>397</td>\n",
       "      <td>0</td>\n",
       "      <td>0</td>\n",
       "      <td>https://archiveofourown.org/works/58222090</td>\n",
       "      <td>16 Aug 2024</td>\n",
       "      <td>0</td>\n",
       "    </tr>\n",
       "  </tbody>\n",
       "</table>\n",
       "</div>"
      ],
      "text/plain": [
       "                标题            作者   点赞    点击  评论  收藏  \\\n",
       "0         【夏以昼×你】昼      Saka1010  166  5310   7   6   \n",
       "1          【夏以昼】苦夏      yushdery   95  4089  30   7   \n",
       "2   【夏以昼】Dandelion    iuxinliang   22  1120   0   0   \n",
       "3           【夏以昼】瘾  Rebeccaslove  107  6853   2   6   \n",
       "4  【夏以昼】Trampoline     BlackCone   16   397   0   0   \n",
       "\n",
       "                                          url         date  点赞比  \n",
       "0  https://archiveofourown.org/works/54907306  02 Apr 2024    0  \n",
       "1  https://archiveofourown.org/works/54180127  01 Mar 2024    0  \n",
       "2  https://archiveofourown.org/works/54251449  04 Mar 2024    0  \n",
       "3  https://archiveofourown.org/works/54696484  24 Mar 2024    0  \n",
       "4  https://archiveofourown.org/works/58222090  16 Aug 2024    0  "
      ]
     },
     "execution_count": 3,
     "metadata": {},
     "output_type": "execute_result"
    }
   ],
   "source": [
    "df = pd.read_csv(file_path,encoding=\"utf-8\")\n",
    "df.insert(df.shape[1], '点赞比', 0)\n",
    "df['点赞'] = df['点赞'].replace(',', '', regex=True)\n",
    "df['点击'] = df['点击'].replace(',', '', regex=True)\n",
    "df['点赞']=df['点赞'].astype(int)\n",
    "df['点击']=df['点击'].astype(int)\n",
    "df.head()"
   ]
  },
  {
   "cell_type": "code",
   "execution_count": 4,
   "id": "91beb9bf",
   "metadata": {},
   "outputs": [
    {
     "name": "stdout",
     "output_type": "stream",
     "text": [
      "667\n"
     ]
    },
    {
     "data": {
      "text/html": [
       "<div>\n",
       "<style scoped>\n",
       "    .dataframe tbody tr th:only-of-type {\n",
       "        vertical-align: middle;\n",
       "    }\n",
       "\n",
       "    .dataframe tbody tr th {\n",
       "        vertical-align: top;\n",
       "    }\n",
       "\n",
       "    .dataframe thead th {\n",
       "        text-align: right;\n",
       "    }\n",
       "</style>\n",
       "<table border=\"1\" class=\"dataframe\">\n",
       "  <thead>\n",
       "    <tr style=\"text-align: right;\">\n",
       "      <th></th>\n",
       "      <th>标题</th>\n",
       "      <th>作者</th>\n",
       "      <th>点赞</th>\n",
       "      <th>点击</th>\n",
       "      <th>评论</th>\n",
       "      <th>收藏</th>\n",
       "      <th>url</th>\n",
       "      <th>date</th>\n",
       "      <th>点赞比</th>\n",
       "    </tr>\n",
       "  </thead>\n",
       "  <tbody>\n",
       "    <tr>\n",
       "      <th>0</th>\n",
       "      <td>【夏以昼×你】昼</td>\n",
       "      <td>Saka1010</td>\n",
       "      <td>166</td>\n",
       "      <td>5310</td>\n",
       "      <td>7</td>\n",
       "      <td>6</td>\n",
       "      <td>https://archiveofourown.org/works/54907306</td>\n",
       "      <td>02 Apr 2024</td>\n",
       "      <td>0.031262</td>\n",
       "    </tr>\n",
       "    <tr>\n",
       "      <th>1</th>\n",
       "      <td>【夏以昼】苦夏</td>\n",
       "      <td>yushdery</td>\n",
       "      <td>95</td>\n",
       "      <td>4089</td>\n",
       "      <td>30</td>\n",
       "      <td>7</td>\n",
       "      <td>https://archiveofourown.org/works/54180127</td>\n",
       "      <td>01 Mar 2024</td>\n",
       "      <td>0.023233</td>\n",
       "    </tr>\n",
       "    <tr>\n",
       "      <th>2</th>\n",
       "      <td>【夏以昼】Dandelion</td>\n",
       "      <td>iuxinliang</td>\n",
       "      <td>22</td>\n",
       "      <td>1120</td>\n",
       "      <td>0</td>\n",
       "      <td>0</td>\n",
       "      <td>https://archiveofourown.org/works/54251449</td>\n",
       "      <td>04 Mar 2024</td>\n",
       "      <td>0.019643</td>\n",
       "    </tr>\n",
       "    <tr>\n",
       "      <th>3</th>\n",
       "      <td>【夏以昼】瘾</td>\n",
       "      <td>Rebeccaslove</td>\n",
       "      <td>107</td>\n",
       "      <td>6853</td>\n",
       "      <td>2</td>\n",
       "      <td>6</td>\n",
       "      <td>https://archiveofourown.org/works/54696484</td>\n",
       "      <td>24 Mar 2024</td>\n",
       "      <td>0.015614</td>\n",
       "    </tr>\n",
       "    <tr>\n",
       "      <th>4</th>\n",
       "      <td>【夏以昼】Trampoline</td>\n",
       "      <td>BlackCone</td>\n",
       "      <td>16</td>\n",
       "      <td>397</td>\n",
       "      <td>0</td>\n",
       "      <td>0</td>\n",
       "      <td>https://archiveofourown.org/works/58222090</td>\n",
       "      <td>16 Aug 2024</td>\n",
       "      <td>0.040302</td>\n",
       "    </tr>\n",
       "  </tbody>\n",
       "</table>\n",
       "</div>"
      ],
      "text/plain": [
       "                标题            作者   点赞    点击  评论  收藏  \\\n",
       "0         【夏以昼×你】昼      Saka1010  166  5310   7   6   \n",
       "1          【夏以昼】苦夏      yushdery   95  4089  30   7   \n",
       "2   【夏以昼】Dandelion    iuxinliang   22  1120   0   0   \n",
       "3           【夏以昼】瘾  Rebeccaslove  107  6853   2   6   \n",
       "4  【夏以昼】Trampoline     BlackCone   16   397   0   0   \n",
       "\n",
       "                                          url         date       点赞比  \n",
       "0  https://archiveofourown.org/works/54907306  02 Apr 2024  0.031262  \n",
       "1  https://archiveofourown.org/works/54180127  01 Mar 2024  0.023233  \n",
       "2  https://archiveofourown.org/works/54251449  04 Mar 2024  0.019643  \n",
       "3  https://archiveofourown.org/works/54696484  24 Mar 2024  0.015614  \n",
       "4  https://archiveofourown.org/works/58222090  16 Aug 2024  0.040302  "
      ]
     },
     "execution_count": 4,
     "metadata": {},
     "output_type": "execute_result"
    }
   ],
   "source": [
    "#点赞比\n",
    "def HitsVSKudos(hits,kudos):\n",
    "        return kudos/hits\n",
    "    \n",
    "hk=[]\n",
    "for x,y in zip(df['点击'],df['点赞']):\n",
    "    if((x!=0)and(y!=0)):\n",
    "        hk.append(HitsVSKudos(int(x),int(y)))\n",
    "    else:\n",
    "        hk.append(0)\n",
    "df[\"点赞比\"]=hk\n",
    "all_count = len(df)\n",
    "print(all_count)\n",
    "df.head()"
   ]
  },
  {
   "cell_type": "code",
   "execution_count": 5,
   "id": "1912547f",
   "metadata": {},
   "outputs": [
    {
     "name": "stdout",
     "output_type": "stream",
     "text": [
      "<class 'datetime.date'>\n",
      "2024-04-02\n",
      "2024-08-28\n",
      "148\n"
     ]
    }
   ],
   "source": [
    "date_string = df.iloc[0]['date']\n",
    "\n",
    "# 将字符串转换为datetime对象\n",
    "date_object = datetime.strptime(date_string, \"%d %b %Y\").date()\n",
    "print(type(date_object))\n",
    "print(date_object)\n",
    "today_date = datetime.now().date()\n",
    "print(today_date)\n",
    "days=(today_date-date_object)\n",
    "print(days.days)"
   ]
  },
  {
   "cell_type": "code",
   "execution_count": 6,
   "id": "052c60dd",
   "metadata": {},
   "outputs": [
    {
     "name": "stdout",
     "output_type": "stream",
     "text": [
      "<class 'pandas.core.series.Series'>\n"
     ]
    },
    {
     "data": {
      "text/html": [
       "<div>\n",
       "<style scoped>\n",
       "    .dataframe tbody tr th:only-of-type {\n",
       "        vertical-align: middle;\n",
       "    }\n",
       "\n",
       "    .dataframe tbody tr th {\n",
       "        vertical-align: top;\n",
       "    }\n",
       "\n",
       "    .dataframe thead th {\n",
       "        text-align: right;\n",
       "    }\n",
       "</style>\n",
       "<table border=\"1\" class=\"dataframe\">\n",
       "  <thead>\n",
       "    <tr style=\"text-align: right;\">\n",
       "      <th></th>\n",
       "      <th>标题</th>\n",
       "      <th>作者</th>\n",
       "      <th>点赞</th>\n",
       "      <th>点击</th>\n",
       "      <th>评论</th>\n",
       "      <th>收藏</th>\n",
       "      <th>url</th>\n",
       "      <th>date</th>\n",
       "      <th>点赞比</th>\n",
       "      <th>发表间隔</th>\n",
       "    </tr>\n",
       "  </thead>\n",
       "  <tbody>\n",
       "    <tr>\n",
       "      <th>0</th>\n",
       "      <td>【夏以昼×你】昼</td>\n",
       "      <td>Saka1010</td>\n",
       "      <td>166</td>\n",
       "      <td>5310</td>\n",
       "      <td>7</td>\n",
       "      <td>6</td>\n",
       "      <td>https://archiveofourown.org/works/54907306</td>\n",
       "      <td>02 Apr 2024</td>\n",
       "      <td>0.031262</td>\n",
       "      <td>148</td>\n",
       "    </tr>\n",
       "    <tr>\n",
       "      <th>1</th>\n",
       "      <td>【夏以昼】苦夏</td>\n",
       "      <td>yushdery</td>\n",
       "      <td>95</td>\n",
       "      <td>4089</td>\n",
       "      <td>30</td>\n",
       "      <td>7</td>\n",
       "      <td>https://archiveofourown.org/works/54180127</td>\n",
       "      <td>01 Mar 2024</td>\n",
       "      <td>0.023233</td>\n",
       "      <td>180</td>\n",
       "    </tr>\n",
       "    <tr>\n",
       "      <th>2</th>\n",
       "      <td>【夏以昼】Dandelion</td>\n",
       "      <td>iuxinliang</td>\n",
       "      <td>22</td>\n",
       "      <td>1120</td>\n",
       "      <td>0</td>\n",
       "      <td>0</td>\n",
       "      <td>https://archiveofourown.org/works/54251449</td>\n",
       "      <td>04 Mar 2024</td>\n",
       "      <td>0.019643</td>\n",
       "      <td>177</td>\n",
       "    </tr>\n",
       "    <tr>\n",
       "      <th>3</th>\n",
       "      <td>【夏以昼】瘾</td>\n",
       "      <td>Rebeccaslove</td>\n",
       "      <td>107</td>\n",
       "      <td>6853</td>\n",
       "      <td>2</td>\n",
       "      <td>6</td>\n",
       "      <td>https://archiveofourown.org/works/54696484</td>\n",
       "      <td>24 Mar 2024</td>\n",
       "      <td>0.015614</td>\n",
       "      <td>157</td>\n",
       "    </tr>\n",
       "    <tr>\n",
       "      <th>4</th>\n",
       "      <td>【夏以昼】Trampoline</td>\n",
       "      <td>BlackCone</td>\n",
       "      <td>16</td>\n",
       "      <td>397</td>\n",
       "      <td>0</td>\n",
       "      <td>0</td>\n",
       "      <td>https://archiveofourown.org/works/58222090</td>\n",
       "      <td>16 Aug 2024</td>\n",
       "      <td>0.040302</td>\n",
       "      <td>12</td>\n",
       "    </tr>\n",
       "  </tbody>\n",
       "</table>\n",
       "</div>"
      ],
      "text/plain": [
       "                标题            作者   点赞    点击  评论  收藏  \\\n",
       "0         【夏以昼×你】昼      Saka1010  166  5310   7   6   \n",
       "1          【夏以昼】苦夏      yushdery   95  4089  30   7   \n",
       "2   【夏以昼】Dandelion    iuxinliang   22  1120   0   0   \n",
       "3           【夏以昼】瘾  Rebeccaslove  107  6853   2   6   \n",
       "4  【夏以昼】Trampoline     BlackCone   16   397   0   0   \n",
       "\n",
       "                                          url         date       点赞比  发表间隔  \n",
       "0  https://archiveofourown.org/works/54907306  02 Apr 2024  0.031262   148  \n",
       "1  https://archiveofourown.org/works/54180127  01 Mar 2024  0.023233   180  \n",
       "2  https://archiveofourown.org/works/54251449  04 Mar 2024  0.019643   177  \n",
       "3  https://archiveofourown.org/works/54696484  24 Mar 2024  0.015614   157  \n",
       "4  https://archiveofourown.org/works/58222090  16 Aug 2024  0.040302    12  "
      ]
     },
     "execution_count": 6,
     "metadata": {},
     "output_type": "execute_result"
    }
   ],
   "source": [
    "days=[]\n",
    "for x in df['date']:\n",
    "    x = datetime.strptime(x, \"%d %b %Y\").date()\n",
    "    today = datetime.now().date()\n",
    "    day=(today-x).days\n",
    "    days.append(day)\n",
    "\n",
    "df[\"发表间隔\"]=days\n",
    "\n",
    "df[\"发表间隔\"] = df[\"发表间隔\"].astype(int)\n",
    "print(type(df[\"发表间隔\"]))\n",
    "df.head()"
   ]
  },
  {
   "cell_type": "code",
   "execution_count": 7,
   "id": "70092f88",
   "metadata": {},
   "outputs": [
    {
     "data": {
      "text/plain": [
       "660"
      ]
     },
     "execution_count": 7,
     "metadata": {},
     "output_type": "execute_result"
    }
   ],
   "source": [
    "dfhk=df[df[\"点赞比\"]>0.0]\n",
    "line_count = len(dfhk)\n",
    "line_count"
   ]
  },
  {
   "cell_type": "code",
   "execution_count": 8,
   "id": "b5dc09c8",
   "metadata": {},
   "outputs": [
    {
     "name": "stdout",
     "output_type": "stream",
     "text": [
      "            点赞        点击        评论        收藏      发表间隔       点赞比\n",
      "点赞    1.000000  0.857691  0.805582  0.881979  0.025001  0.098633\n",
      "点击    0.857691  1.000000  0.784976  0.823070  0.038420 -0.031827\n",
      "评论    0.805582  0.784976  1.000000  0.823650 -0.011966  0.092437\n",
      "收藏    0.881979  0.823070  0.823650  1.000000  0.015989  0.094633\n",
      "发表间隔  0.025001  0.038420 -0.011966  0.015989  1.000000 -0.127189\n",
      "点赞比   0.098633 -0.031827  0.092437  0.094633 -0.127189  1.000000\n"
     ]
    }
   ],
   "source": [
    "correlation_ab = dfhk[[\"点赞\",\"点击\", \"评论\", \"收藏\",\"发表间隔\",\"点赞比\"]].corr()\n",
    "print(correlation_ab)"
   ]
  },
  {
   "cell_type": "code",
   "execution_count": 9,
   "id": "c75e7306",
   "metadata": {},
   "outputs": [
    {
     "data": {
      "text/html": [
       "<div>\n",
       "<style scoped>\n",
       "    .dataframe tbody tr th:only-of-type {\n",
       "        vertical-align: middle;\n",
       "    }\n",
       "\n",
       "    .dataframe tbody tr th {\n",
       "        vertical-align: top;\n",
       "    }\n",
       "\n",
       "    .dataframe thead th {\n",
       "        text-align: right;\n",
       "    }\n",
       "</style>\n",
       "<table border=\"1\" class=\"dataframe\">\n",
       "  <thead>\n",
       "    <tr style=\"text-align: right;\">\n",
       "      <th></th>\n",
       "      <th>标题</th>\n",
       "      <th>作者</th>\n",
       "      <th>点赞</th>\n",
       "      <th>点击</th>\n",
       "      <th>评论</th>\n",
       "      <th>收藏</th>\n",
       "      <th>url</th>\n",
       "      <th>date</th>\n",
       "      <th>点赞比</th>\n",
       "      <th>发表间隔</th>\n",
       "    </tr>\n",
       "  </thead>\n",
       "  <tbody>\n",
       "    <tr>\n",
       "      <th>597</th>\n",
       "      <td>【恋与深空】隔墙花</td>\n",
       "      <td>lumianlin</td>\n",
       "      <td>3854</td>\n",
       "      <td>72281</td>\n",
       "      <td>222</td>\n",
       "      <td>148</td>\n",
       "      <td>https://archiveofourown.org/works/53498713</td>\n",
       "      <td>13 Mar 2024</td>\n",
       "      <td>0.053320</td>\n",
       "      <td>168</td>\n",
       "    </tr>\n",
       "    <tr>\n",
       "      <th>376</th>\n",
       "      <td>【夏以昼x我x黎深】苹果和梨可以兼得吗</td>\n",
       "      <td>lanangelica</td>\n",
       "      <td>2141</td>\n",
       "      <td>61821</td>\n",
       "      <td>302</td>\n",
       "      <td>117</td>\n",
       "      <td>https://archiveofourown.org/works/53422264</td>\n",
       "      <td>24 Feb 2024</td>\n",
       "      <td>0.034632</td>\n",
       "      <td>186</td>\n",
       "    </tr>\n",
       "    <tr>\n",
       "      <th>25</th>\n",
       "      <td>【夏以昼日记】</td>\n",
       "      <td>JiuMengXingHe</td>\n",
       "      <td>1925</td>\n",
       "      <td>41401</td>\n",
       "      <td>159</td>\n",
       "      <td>220</td>\n",
       "      <td>https://archiveofourown.org/works/54155422</td>\n",
       "      <td>29 Feb 2024</td>\n",
       "      <td>0.046496</td>\n",
       "      <td>181</td>\n",
       "    </tr>\n",
       "    <tr>\n",
       "      <th>576</th>\n",
       "      <td>恋与深空｜难恕</td>\n",
       "      <td>Flaustine</td>\n",
       "      <td>1738</td>\n",
       "      <td>41938</td>\n",
       "      <td>87</td>\n",
       "      <td>79</td>\n",
       "      <td>https://archiveofourown.org/works/54013507</td>\n",
       "      <td>27 Mar 2024</td>\n",
       "      <td>0.041442</td>\n",
       "      <td>154</td>\n",
       "    </tr>\n",
       "    <tr>\n",
       "      <th>411</th>\n",
       "      <td>【恋与深空 夏以昼X你X黎深】不可逃避R18</td>\n",
       "      <td>XCAAlexios</td>\n",
       "      <td>1296</td>\n",
       "      <td>35479</td>\n",
       "      <td>168</td>\n",
       "      <td>72</td>\n",
       "      <td>https://archiveofourown.org/works/53496655</td>\n",
       "      <td>03 Mar 2024</td>\n",
       "      <td>0.036529</td>\n",
       "      <td>178</td>\n",
       "    </tr>\n",
       "  </tbody>\n",
       "</table>\n",
       "</div>"
      ],
      "text/plain": [
       "                         标题             作者    点赞     点击   评论   收藏  \\\n",
       "597               【恋与深空】隔墙花      lumianlin  3854  72281  222  148   \n",
       "376     【夏以昼x我x黎深】苹果和梨可以兼得吗    lanangelica  2141  61821  302  117   \n",
       "25                  【夏以昼日记】  JiuMengXingHe  1925  41401  159  220   \n",
       "576                 恋与深空｜难恕      Flaustine  1738  41938   87   79   \n",
       "411  【恋与深空 夏以昼X你X黎深】不可逃避R18     XCAAlexios  1296  35479  168   72   \n",
       "\n",
       "                                            url         date       点赞比  发表间隔  \n",
       "597  https://archiveofourown.org/works/53498713  13 Mar 2024  0.053320   168  \n",
       "376  https://archiveofourown.org/works/53422264  24 Feb 2024  0.034632   186  \n",
       "25   https://archiveofourown.org/works/54155422  29 Feb 2024  0.046496   181  \n",
       "576  https://archiveofourown.org/works/54013507  27 Mar 2024  0.041442   154  \n",
       "411  https://archiveofourown.org/works/53496655  03 Mar 2024  0.036529   178  "
      ]
     },
     "execution_count": 9,
     "metadata": {},
     "output_type": "execute_result"
    }
   ],
   "source": [
    "num=int(all_count*0.1)\n",
    "dfkudos=df.nlargest(num,\"点赞\")"
   ]
  },
  {
   "cell_type": "code",
   "execution_count": 29,
   "id": "81e771ae",
   "metadata": {},
   "outputs": [
    {
     "data": {
      "text/plain": [
       "66"
      ]
     },
     "execution_count": 29,
     "metadata": {},
     "output_type": "execute_result"
    }
   ],
   "source": [
    "dfhits=df.nlargest(num,\"点击\")\n",
    "len(dfhits)"
   ]
  },
  {
   "cell_type": "code",
   "execution_count": 30,
   "id": "895f7f61",
   "metadata": {
    "scrolled": false
   },
   "outputs": [
    {
     "data": {
      "text/plain": [
       "66"
      ]
     },
     "execution_count": 30,
     "metadata": {},
     "output_type": "execute_result"
    }
   ],
   "source": [
    "dfh2k=df.nlargest(num,\"点赞比\")\n",
    "len(dfh2k)"
   ]
  },
  {
   "cell_type": "code",
   "execution_count": 34,
   "id": "fc6e8f6d",
   "metadata": {},
   "outputs": [
    {
     "name": "stdout",
     "output_type": "stream",
     "text": [
      "Before: 198\n",
      "After: 134\n"
     ]
    }
   ],
   "source": [
    "df_all= pd.concat([dfhits, dfkudos, dfh2k], axis=0)\n",
    "print(\"Before:\",len(df_all))\n",
    "df_all = df_all.drop_duplicates()\n",
    "print(\"After:\",len(df_all))"
   ]
  },
  {
   "cell_type": "code",
   "execution_count": 36,
   "id": "4110c198",
   "metadata": {},
   "outputs": [],
   "source": [
    "import csv\n",
    "out_path=chinese_str+\"文章筛选.xlsx\"\n",
    "df_all.to_excel(out_path,encoding='utf-8')"
   ]
  },
  {
   "cell_type": "code",
   "execution_count": null,
   "id": "96e32963",
   "metadata": {},
   "outputs": [],
   "source": [
    "#统计每篇文章高频词\n"
   ]
  }
 ],
 "metadata": {
  "kernelspec": {
   "display_name": "Python 3 (ipykernel)",
   "language": "python",
   "name": "python3"
  },
  "language_info": {
   "codemirror_mode": {
    "name": "ipython",
    "version": 3
   },
   "file_extension": ".py",
   "mimetype": "text/x-python",
   "name": "python",
   "nbconvert_exporter": "python",
   "pygments_lexer": "ipython3",
   "version": "3.9.18"
  }
 },
 "nbformat": 4,
 "nbformat_minor": 5
}
